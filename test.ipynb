{
 "cells": [
  {
   "cell_type": "code",
   "execution_count": 8,
   "metadata": {},
   "outputs": [
    {
     "name": "stdout",
     "output_type": "stream",
     "text": [
      "['/home/jiaoal/anaconda3/envs/slam/lib/python312.zip', '/home/jiaoal/anaconda3/envs/slam/lib/python3.12', '/home/jiaoal/anaconda3/envs/slam/lib/python3.12/lib-dynload', '', '/home/jiaoal/anaconda3/envs/slam/lib/python3.12/site-packages', '/home/jiaoal/anaconda3/envs/slam/lib/python3.12/site-packages/setuptools/_vendor', '/home/jiaoal/code/Transposenet', '/home/jiaoal/code/Transposenet', '/home/jiaoal/code/Transposenet', '/home/jiaoal/code/Transposenet', '/tmp/tmp74bc4wzg', '/home/jiaoal/code/Transposenet']\n",
      "0.20.1+cu121\n"
     ]
    }
   ],
   "source": [
    "import sys\n",
    "sys.path.append('/home/jiaoal/code/Transposenet')\n",
    "print(sys.path)\n",
    "import torchvision\n",
    "print(torchvision.__version__)"
   ]
  }
 ],
 "metadata": {
  "kernelspec": {
   "display_name": "slam",
   "language": "python",
   "name": "python3"
  },
  "language_info": {
   "codemirror_mode": {
    "name": "ipython",
    "version": 3
   },
   "file_extension": ".py",
   "mimetype": "text/x-python",
   "name": "python",
   "nbconvert_exporter": "python",
   "pygments_lexer": "ipython3",
   "version": "3.12.0"
  }
 },
 "nbformat": 4,
 "nbformat_minor": 2
}
